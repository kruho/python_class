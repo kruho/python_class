{
 "cells": [
  {
   "cell_type": "markdown",
   "metadata": {},
   "source": [
    "# dictionary（辞書）を勉強する"
   ]
  },
  {
   "cell_type": "markdown",
   "metadata": {},
   "source": [
    "|メソッド名|効果|\n",
    "|:---|:---|\n",
    "|clear|リストを空にする（[ ]になる）|\n",
    "|copy|リストの深いコピーを作る|\n",
    "|fromkeys|キーを設定する|\n",
    "|get|指定したキーの値を取得する|\n",
    "|items|(キー, 値)のリストを取得する|\n",
    "|keys|キーのリストを取得する|\n",
    "|values|値のリストを取得する|\n",
    "|pop|指定したインデックスの要素を消す|\n",
    "|popitem|いずれかのアイテムを消して、消したアイテムをタプルで返す|\n",
    "|setdefault|新たなアイテムを追加する。すでにキーが存在する場合は上書きしない|\n",
    "|update|2つの辞書を連結する。同じキーが存在する場合、アイテムは上書きされる|\n"
   ]
  },
  {
   "cell_type": "code",
   "execution_count": 1,
   "metadata": {},
   "outputs": [
    {
     "name": "stdout",
     "output_type": "stream",
     "text": [
      "{'first': 'いろは', 'second': 'にほへと', 'third': 'ちりぬるを'}\n",
      "{}\n"
     ]
    }
   ],
   "source": [
    "x = {'first':'いろは', 'second':'にほへと', 'third':'ちりぬるを'}\n",
    "print(x)\n",
    "x.clear()\n",
    "print(x)"
   ]
  },
  {
   "cell_type": "code",
   "execution_count": 2,
   "metadata": {},
   "outputs": [
    {
     "name": "stdout",
     "output_type": "stream",
     "text": [
      "{'first': 'いろは', 'second': 'にほへと', 'third': 'ちりぬるを'} {'first': 'いろは', 'second': 'にほへと', 'third': 'ちりぬるを'}\n",
      "{'first': '春はあけぼの', 'second': 'にほへと', 'third': 'ちりぬるを'} {'first': 'いろは', 'second': 'にほへと', 'third': 'ちりぬるを'}\n"
     ]
    }
   ],
   "source": [
    "x = {'first':'いろは', 'second':'にほへと', 'third':'ちりぬるを'}\n",
    "y = x.copy()\n",
    "print(x,y)\n",
    "x['first'] = '春はあけぼの'\n",
    "print(x,y)"
   ]
  },
  {
   "cell_type": "code",
   "execution_count": 3,
   "metadata": {},
   "outputs": [
    {
     "name": "stdout",
     "output_type": "stream",
     "text": [
      "{'first': 'いろは', 'second': 'にほへと', 'third': 'ちりぬるを'} {'first': 'いろは', 'second': 'にほへと', 'third': 'ちりぬるを'}\n",
      "{'first': '春はあけぼの', 'second': 'にほへと', 'third': 'ちりぬるを'} {'first': '春はあけぼの', 'second': 'にほへと', 'third': 'ちりぬるを'}\n"
     ]
    }
   ],
   "source": [
    "x = {'first':'いろは', 'second':'にほへと', 'third':'ちりぬるを'}\n",
    "y = x\n",
    "print(x,y)\n",
    "x['first'] = '春はあけぼの'\n",
    "print(x,y)"
   ]
  },
  {
   "cell_type": "code",
   "execution_count": 4,
   "metadata": {},
   "outputs": [
    {
     "name": "stdout",
     "output_type": "stream",
     "text": [
      "{'いろは': None, 'にほへと': None, 'ちりぬるを': None}\n"
     ]
    }
   ],
   "source": [
    "keys = ['いろは', 'にほへと', 'ちりぬるを']\n",
    "x = dict.fromkeys(keys)\n",
    "print(x)"
   ]
  },
  {
   "cell_type": "code",
   "execution_count": 5,
   "metadata": {},
   "outputs": [
    {
     "name": "stdout",
     "output_type": "stream",
     "text": [
      "いろは\n",
      "None\n",
      "nothing\n",
      "いろは\n"
     ]
    },
    {
     "ename": "KeyError",
     "evalue": "'forth'",
     "output_type": "error",
     "traceback": [
      "\u001b[0;31m---------------------------------------------------------------------------\u001b[0m",
      "\u001b[0;31mKeyError\u001b[0m                                  Traceback (most recent call last)",
      "\u001b[0;32m<ipython-input-5-9e4ed0d1379f>\u001b[0m in \u001b[0;36m<module>\u001b[0;34m()\u001b[0m\n\u001b[1;32m      5\u001b[0m \u001b[0;34m\u001b[0m\u001b[0m\n\u001b[1;32m      6\u001b[0m \u001b[0mprint\u001b[0m\u001b[0;34m(\u001b[0m\u001b[0mx\u001b[0m\u001b[0;34m[\u001b[0m\u001b[0;34m'first'\u001b[0m\u001b[0;34m]\u001b[0m\u001b[0;34m)\u001b[0m\u001b[0;34m\u001b[0m\u001b[0m\n\u001b[0;32m----> 7\u001b[0;31m \u001b[0mprint\u001b[0m\u001b[0;34m(\u001b[0m\u001b[0mx\u001b[0m\u001b[0;34m[\u001b[0m\u001b[0;34m'forth'\u001b[0m\u001b[0;34m]\u001b[0m\u001b[0;34m)\u001b[0m \u001b[0;31m# forthというキーは存在しないのでエラーが起きる\u001b[0m\u001b[0;34m\u001b[0m\u001b[0m\n\u001b[0m",
      "\u001b[0;31mKeyError\u001b[0m: 'forth'"
     ]
    }
   ],
   "source": [
    "x = {'first':'いろは', 'second':'にほへと', 'third':'ちりぬるを'}\n",
    "print(x.get('first'))\n",
    "print(x.get('forth')) # forthというキーは存在しないのでNoneが表示される\n",
    "print(x.get('forth', 'nothing')) # forthというキーが存在しない場合に、文字列'nothing'を返す\n",
    "\n",
    "print(x['first'])\n",
    "print(x['forth']) # forthというキーは存在しないのでエラーが起きる"
   ]
  },
  {
   "cell_type": "code",
   "execution_count": 6,
   "metadata": {},
   "outputs": [
    {
     "name": "stdout",
     "output_type": "stream",
     "text": [
      "dict_items([('first', 'いろは'), ('second', 'にほへと'), ('third', 'ちりぬるを')])\n",
      "dict_keys(['first', 'second', 'third'])\n",
      "dict_values(['いろは', 'にほへと', 'ちりぬるを'])\n"
     ]
    }
   ],
   "source": [
    "x = {'first':'いろは', 'second':'にほへと', 'third':'ちりぬるを'}\n",
    "print(x.items())\n",
    "print(x.keys())\n",
    "print(x.values())"
   ]
  },
  {
   "cell_type": "code",
   "execution_count": 7,
   "metadata": {},
   "outputs": [
    {
     "name": "stdout",
     "output_type": "stream",
     "text": [
      "{'first': 'いろは', 'second': 'にほへと', 'third': 'ちりぬるを'}\n",
      "{'second': 'にほへと', 'third': 'ちりぬるを'}\n"
     ]
    }
   ],
   "source": [
    "x = {'first':'いろは', 'second':'にほへと', 'third':'ちりぬるを'}\n",
    "print(x)\n",
    "x.pop('first')\n",
    "print(x)"
   ]
  },
  {
   "cell_type": "code",
   "execution_count": 8,
   "metadata": {},
   "outputs": [
    {
     "name": "stdout",
     "output_type": "stream",
     "text": [
      "{'first': 'いろは', 'second': 'にほへと', 'third': 'ちりぬるを'}\n",
      "{'first': 'いろは', 'second': 'にほへと'} ('third', 'ちりぬるを')\n"
     ]
    }
   ],
   "source": [
    "x = {'first':'いろは', 'second':'にほへと', 'third':'ちりぬるを'}\n",
    "print(x)\n",
    "y=x.popitem()\n",
    "print(x,y)"
   ]
  },
  {
   "cell_type": "code",
   "execution_count": 9,
   "metadata": {},
   "outputs": [
    {
     "name": "stdout",
     "output_type": "stream",
     "text": [
      "{'first': 'いろは', 'second': 'にほへと', 'third': 'ちりぬるを'}\n",
      "{'first': 'いろは', 'second': 'にほへと', 'third': 'ちりぬるを', 'forth': 'わかよたれそ'}\n",
      "{'first': 'いろは', 'second': 'にほへと', 'third': 'ちりぬるを', 'forth': 'わかよたれそ'}\n"
     ]
    }
   ],
   "source": [
    "x = {'first':'いろは', 'second':'にほへと', 'third':'ちりぬるを'}\n",
    "print(x)\n",
    "x.setdefault('forth', 'わかよたれそ')\n",
    "print(x)\n",
    "x.setdefault('second', 'つねならん')\n",
    "print(x)"
   ]
  },
  {
   "cell_type": "code",
   "execution_count": 10,
   "metadata": {},
   "outputs": [
    {
     "name": "stdout",
     "output_type": "stream",
     "text": [
      "{'first': 'いろは', 'second': 'にほへと', 'third': 'ちりぬるを'} {'fourth': 'わかよたれそ', 'fifth': 'つねならん'}\n",
      "{'first': 'いろは', 'second': 'にほへと', 'third': 'ちりぬるを', 'fourth': 'わかよたれそ', 'fifth': 'つねならん'}\n",
      "{'fourth': 'わかよたれそ', 'fifth': 'つねならん', 'first': 'いろは', 'second': 'にほへと', 'third': 'ちりぬるを'}\n"
     ]
    }
   ],
   "source": [
    "x = {'first':'いろは', 'second':'にほへと', 'third':'ちりぬるを'}\n",
    "y = {'fourth':'わかよたれそ', 'fifth':'つねならん'}\n",
    "print(x,y)\n",
    "x.update(y)\n",
    "print(x)\n",
    "y.update(x)\n",
    "print(y)"
   ]
  },
  {
   "cell_type": "code",
   "execution_count": 11,
   "metadata": {},
   "outputs": [
    {
     "name": "stdout",
     "output_type": "stream",
     "text": [
      "{'first': 'いろは', 'second': 'にほへと', 'third': 'ちりぬるを'} {'second': 'わかよたれそ', 'third': 'つねならん'}\n",
      "{'first': 'いろは', 'second': 'わかよたれそ', 'third': 'つねならん'}\n",
      "{'second': 'わかよたれそ', 'third': 'つねならん', 'first': 'いろは'}\n"
     ]
    }
   ],
   "source": [
    "x = {'first':'いろは', 'second':'にほへと', 'third':'ちりぬるを'}\n",
    "y = {'second':'わかよたれそ', 'third':'つねならん'}\n",
    "print(x,y)\n",
    "x.update(y)\n",
    "print(x)\n",
    "y.update(x)\n",
    "print(y)"
   ]
  },
  {
   "cell_type": "code",
   "execution_count": null,
   "metadata": {
    "collapsed": true
   },
   "outputs": [],
   "source": []
  }
 ],
 "metadata": {
  "kernelspec": {
   "display_name": "Python 3",
   "language": "python",
   "name": "python3"
  },
  "language_info": {
   "codemirror_mode": {
    "name": "ipython",
    "version": 3
   },
   "file_extension": ".py",
   "mimetype": "text/x-python",
   "name": "python",
   "nbconvert_exporter": "python",
   "pygments_lexer": "ipython3",
   "version": "3.6.3"
  }
 },
 "nbformat": 4,
 "nbformat_minor": 2
}
