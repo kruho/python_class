{
 "cells": [
  {
   "cell_type": "markdown",
   "metadata": {},
   "source": [
    "# Pythonのクラス"
   ]
  },
  {
   "cell_type": "markdown",
   "metadata": {},
   "source": [
    "- `class クラス名(object)`で自作のクラスを定義できる。\n",
    "- クラスには__コンストラクタ__(`__init__`のこと)と呼ばれる初期化を行う関数が必須。  \n",
    "`def __init__(self)`  \n",
    "と書けば良い。\n",
    "- コンストラクタの中身に何も書かない場合は`pass`と書いておく。\n",
    "- 慣例上、クラス名の頭文字は大文字にする。\n",
    "    - 小文字でもエラーは出ないが、人が読みにくくなる。"
   ]
  },
  {
   "cell_type": "code",
   "execution_count": 1,
   "metadata": {
    "collapsed": true
   },
   "outputs": [],
   "source": [
    "class Empty(object):\n",
    "    def __init__(self):\n",
    "        pass"
   ]
  },
  {
   "cell_type": "markdown",
   "metadata": {},
   "source": [
    "- __インスタンス__とは、クラスを実体化したようなもの。\n",
    "- クラスはインスタンス化して初めて使い物になる。\n",
    "- インスタンス名（自分の好きな名前）=クラス名(コンストラクタに渡す変数)  \n",
    "と書けば良い。\n",
    "- `Empty`クラスはコンストラクタに何も引数を取っていないので、丸括弧の中身は空っぽでOK。"
   ]
  },
  {
   "cell_type": "code",
   "execution_count": 2,
   "metadata": {
    "collapsed": true
   },
   "outputs": [],
   "source": [
    "e = Empty()"
   ]
  },
  {
   "cell_type": "markdown",
   "metadata": {},
   "source": [
    "## 自作クラスにクラス変数を持たせてみる\n",
    "- クラス変数を持つ`Var`クラスを作る。\n",
    "- コンストラクタに`var`という名前の引数を定義する。\n",
    "- インスタンス化した際に、\n",
    "    1. コンストラクタに渡した変数が`var`に入れられる。\n",
    "    2.  コンストラクタ内で`self.var`という名前の変数に`var`の値を代入する。\n",
    "- `self.〇〇`と書くと、__クラス変数__になる。クラス変数はインスタンスの中に格納される（保存できる）。"
   ]
  },
  {
   "cell_type": "code",
   "execution_count": 3,
   "metadata": {
    "collapsed": true
   },
   "outputs": [],
   "source": [
    "class Var(object):\n",
    "    def __init__(self, var):\n",
    "        self.var = var"
   ]
  },
  {
   "cell_type": "code",
   "execution_count": 4,
   "metadata": {
    "collapsed": true
   },
   "outputs": [],
   "source": [
    "v = Var(4)"
   ]
  },
  {
   "cell_type": "markdown",
   "metadata": {},
   "source": [
    "- クラス変数は  \n",
    "インスタンス名.クラス変数名  \n",
    "で呼び出すことができる。"
   ]
  },
  {
   "cell_type": "code",
   "execution_count": 5,
   "metadata": {},
   "outputs": [
    {
     "data": {
      "text/plain": [
       "4"
      ]
     },
     "execution_count": 5,
     "metadata": {},
     "output_type": "execute_result"
    }
   ],
   "source": [
    "v.var"
   ]
  },
  {
   "cell_type": "markdown",
   "metadata": {},
   "source": [
    "- クラス変数を書き換えることも可能"
   ]
  },
  {
   "cell_type": "code",
   "execution_count": 6,
   "metadata": {},
   "outputs": [
    {
     "data": {
      "text/plain": [
       "5"
      ]
     },
     "execution_count": 6,
     "metadata": {},
     "output_type": "execute_result"
    }
   ],
   "source": [
    "v.var=5\n",
    "v.var"
   ]
  },
  {
   "cell_type": "markdown",
   "metadata": {},
   "source": [
    "## 自作クラスにメソッドを持たせてみる\n",
    "- コンストラクタとは別に`summation`という名前の関数をクラス内で定義する。\n",
    "- クラス内の関数を__メソッド__と呼ぶ。\n",
    "- `summation`は`a`と`b`という2つの変数を引数に取り、その和を返す。\n",
    "- __メソッドを定義する際は、第１引数に`self`を必ず書く。__"
   ]
  },
  {
   "cell_type": "code",
   "execution_count": 7,
   "metadata": {
    "collapsed": true
   },
   "outputs": [],
   "source": [
    "class Method(object):\n",
    "    def __init__(self):\n",
    "        pass\n",
    "    \n",
    "    def summation(self, a, b):\n",
    "        return a+b"
   ]
  },
  {
   "cell_type": "code",
   "execution_count": 8,
   "metadata": {
    "collapsed": true
   },
   "outputs": [],
   "source": [
    "m = Method()"
   ]
  },
  {
   "cell_type": "code",
   "execution_count": 9,
   "metadata": {},
   "outputs": [
    {
     "data": {
      "text/plain": [
       "3"
      ]
     },
     "execution_count": 9,
     "metadata": {},
     "output_type": "execute_result"
    }
   ],
   "source": [
    "m.summation(1,2)"
   ]
  },
  {
   "cell_type": "markdown",
   "metadata": {},
   "source": [
    "## クラス変数とメソッドの両方を持つクラスを作ってみる\n",
    "- インスタンス化する時に変数`a`をコンストラクタに渡し、クラス変数`b`に格納する。\n",
    "- `square`メソッドによって、クラス変数`b`の二乗の値を計算する。"
   ]
  },
  {
   "cell_type": "code",
   "execution_count": 10,
   "metadata": {
    "collapsed": true
   },
   "outputs": [],
   "source": [
    "class VarMeth(object):\n",
    "    def __init__(self, a):\n",
    "        self.b = a\n",
    "    \n",
    "    def square(self):\n",
    "        return self.b**2"
   ]
  },
  {
   "cell_type": "code",
   "execution_count": 11,
   "metadata": {
    "collapsed": true
   },
   "outputs": [],
   "source": [
    "vm = VarMeth(3)"
   ]
  },
  {
   "cell_type": "code",
   "execution_count": 12,
   "metadata": {},
   "outputs": [
    {
     "data": {
      "text/plain": [
       "9"
      ]
     },
     "execution_count": 12,
     "metadata": {},
     "output_type": "execute_result"
    }
   ],
   "source": [
    "vm.square()"
   ]
  },
  {
   "cell_type": "markdown",
   "metadata": {},
   "source": [
    "- クラス変数には定数を入れておくと便利。\n",
    "- $ax^2+bx+c$を計算するクラスを作る。\n",
    "- $(a,b,c)=(2,3,1)$のインスタンスと、$(a,b,c)=(4,1,5)$のインスタンスを作る。\n",
    "- $x=2$を代入した結果を計算してみる。\n",
    "- 答えは\n",
    "\n",
    "$2 ¥times 2^2 + 3¥times 2 + 1=16$\n",
    "$4¥times2^2 + 1¥times 2 + 5=28$"
   ]
  },
  {
   "cell_type": "code",
   "execution_count": 13,
   "metadata": {
    "collapsed": true
   },
   "outputs": [],
   "source": [
    "class Quadratic(object):\n",
    "    def __init__(self, a, b, c):\n",
    "        self.a = a\n",
    "        self.b = b\n",
    "        self.c = c\n",
    "    \n",
    "    def quad(self, x):\n",
    "        return self.a*x*x + self.b*x + self.c*x"
   ]
  },
  {
   "cell_type": "code",
   "execution_count": 14,
   "metadata": {
    "collapsed": true
   },
   "outputs": [],
   "source": [
    "q1 = Quadratic(2,3,1)\n",
    "q2 = Quadratic(4,1,5)"
   ]
  },
  {
   "cell_type": "code",
   "execution_count": 15,
   "metadata": {},
   "outputs": [
    {
     "name": "stdout",
     "output_type": "stream",
     "text": [
      "16 28\n"
     ]
    }
   ],
   "source": [
    "print(q1.quad(2), q2.quad(2))"
   ]
  },
  {
   "cell_type": "markdown",
   "metadata": {},
   "source": [
    "# おまけ\n",
    "## private化、ゲッターとセッター"
   ]
  },
  {
   "cell_type": "markdown",
   "metadata": {},
   "source": [
    "## クラス変数やメソッドをprivateにする。\n",
    "- クラス変数名やメソッド名の最初に`__`（アンダーバー2つ）をつけるとprivateになります。\n",
    "- private変数やprivateメソッドは呼び出せません。\n",
    "- クラス変数を間違って変更することがないようにしたい場合はprivateにすると良いです。このように外部の操作からプログラムを保護・隔離することを__カプセル化__と呼びます。"
   ]
  },
  {
   "cell_type": "code",
   "execution_count": 16,
   "metadata": {
    "collapsed": true
   },
   "outputs": [],
   "source": [
    "class VarPriv(object):\n",
    "    def __init__(self, a):\n",
    "        self.__a = a"
   ]
  },
  {
   "cell_type": "code",
   "execution_count": 17,
   "metadata": {
    "collapsed": true
   },
   "outputs": [],
   "source": [
    "vp = VarPriv(4)"
   ]
  },
  {
   "cell_type": "code",
   "execution_count": 18,
   "metadata": {},
   "outputs": [
    {
     "ename": "SyntaxError",
     "evalue": "invalid character in identifier (<ipython-input-18-b539e7fcdc13>, line 1)",
     "output_type": "error",
     "traceback": [
      "\u001b[0;36m  File \u001b[0;32m\"<ipython-input-18-b539e7fcdc13>\"\u001b[0;36m, line \u001b[0;32m1\u001b[0m\n\u001b[0;31m    vp.__a　# __aはprivate変数なのでエラーが起きる\u001b[0m\n\u001b[0m          ^\u001b[0m\n\u001b[0;31mSyntaxError\u001b[0m\u001b[0;31m:\u001b[0m invalid character in identifier\n"
     ]
    }
   ],
   "source": [
    "vp.__a　# __aはprivate変数なのでエラーが起きる"
   ]
  },
  {
   "cell_type": "code",
   "execution_count": 19,
   "metadata": {
    "collapsed": true
   },
   "outputs": [],
   "source": [
    "class QuadraticPriv(object):\n",
    "    def __init__(self, a, b, c):\n",
    "        self.__a = a\n",
    "        self.__b = b\n",
    "        self.__c = c\n",
    "    \n",
    "    def quad(self, x):\n",
    "        return self.__a*x*x + self.__b*x + self.__c*x"
   ]
  },
  {
   "cell_type": "code",
   "execution_count": 20,
   "metadata": {
    "collapsed": true
   },
   "outputs": [],
   "source": [
    "qp = QuadraticPriv(2,3,1)"
   ]
  },
  {
   "cell_type": "code",
   "execution_count": 21,
   "metadata": {},
   "outputs": [
    {
     "ename": "SyntaxError",
     "evalue": "invalid character in identifier (<ipython-input-21-485d3dbed138>, line 1)",
     "output_type": "error",
     "traceback": [
      "\u001b[0;36m  File \u001b[0;32m\"<ipython-input-21-485d3dbed138>\"\u001b[0;36m, line \u001b[0;32m1\u001b[0m\n\u001b[0;31m    qp.__a　# __aはprivate変数なのでエラーが起きる\u001b[0m\n\u001b[0m          ^\u001b[0m\n\u001b[0;31mSyntaxError\u001b[0m\u001b[0;31m:\u001b[0m invalid character in identifier\n"
     ]
    }
   ],
   "source": [
    "qp.__a　# __aはprivate変数なのでエラーが起きる"
   ]
  },
  {
   "cell_type": "code",
   "execution_count": 22,
   "metadata": {},
   "outputs": [
    {
     "data": {
      "text/plain": [
       "16"
      ]
     },
     "execution_count": 22,
     "metadata": {},
     "output_type": "execute_result"
    }
   ],
   "source": [
    "qp.quad(2)"
   ]
  },
  {
   "cell_type": "markdown",
   "metadata": {},
   "source": [
    "## ゲッターを使ってprivate変数を得る\n",
    "- private変数にしたら全く外から見れなくなるわけではなく、private変数を見る専用のメソッドを作ってやれば見れます。\n",
    "- クラス変数を取得するメソッドを特に__ゲッター__と呼びます。"
   ]
  },
  {
   "cell_type": "code",
   "execution_count": 23,
   "metadata": {
    "collapsed": true
   },
   "outputs": [],
   "source": [
    "class PrivGet(object):\n",
    "    def __init__(self, a):\n",
    "        self.__a = a\n",
    "        \n",
    "    def get_a(self):\n",
    "        return self.__a"
   ]
  },
  {
   "cell_type": "code",
   "execution_count": 24,
   "metadata": {
    "collapsed": true
   },
   "outputs": [],
   "source": [
    "pg = PrivGet(3)"
   ]
  },
  {
   "cell_type": "code",
   "execution_count": 25,
   "metadata": {},
   "outputs": [
    {
     "ename": "SyntaxError",
     "evalue": "invalid character in identifier (<ipython-input-25-90e629f1c705>, line 1)",
     "output_type": "error",
     "traceback": [
      "\u001b[0;36m  File \u001b[0;32m\"<ipython-input-25-90e629f1c705>\"\u001b[0;36m, line \u001b[0;32m1\u001b[0m\n\u001b[0;31m    pg.__a　# __aはprivate変数なのでエラーが起きる\u001b[0m\n\u001b[0m          ^\u001b[0m\n\u001b[0;31mSyntaxError\u001b[0m\u001b[0;31m:\u001b[0m invalid character in identifier\n"
     ]
    }
   ],
   "source": [
    "pg.__a　# __aはprivate変数なのでエラーが起きる"
   ]
  },
  {
   "cell_type": "code",
   "execution_count": 26,
   "metadata": {},
   "outputs": [
    {
     "data": {
      "text/plain": [
       "3"
      ]
     },
     "execution_count": 26,
     "metadata": {},
     "output_type": "execute_result"
    }
   ],
   "source": [
    "pg.get_a()"
   ]
  },
  {
   "cell_type": "markdown",
   "metadata": {},
   "source": [
    "## セッターを使ってprivate変数を設定する\n",
    "- インスタンス化した瞬間以外でもprivate変数を使いたい場合は、private変数に値を代入するメソッドを作ります。\n",
    "- クラス変数に値を代入するメソッドを__セッター__と呼びます。"
   ]
  },
  {
   "cell_type": "code",
   "execution_count": 27,
   "metadata": {
    "collapsed": true
   },
   "outputs": [],
   "source": [
    "class PrivSet(object):\n",
    "    def __init__(self):\n",
    "        pass\n",
    "        \n",
    "    def set_a(self, a):\n",
    "        self.__a = a"
   ]
  },
  {
   "cell_type": "code",
   "execution_count": 28,
   "metadata": {
    "collapsed": true
   },
   "outputs": [],
   "source": [
    "ps = PrivSet()"
   ]
  },
  {
   "cell_type": "code",
   "execution_count": 29,
   "metadata": {
    "collapsed": true
   },
   "outputs": [],
   "source": [
    "ps.set_a(4)"
   ]
  },
  {
   "cell_type": "code",
   "execution_count": 30,
   "metadata": {},
   "outputs": [
    {
     "ename": "SyntaxError",
     "evalue": "invalid character in identifier (<ipython-input-30-9fc0a9a9cef9>, line 1)",
     "output_type": "error",
     "traceback": [
      "\u001b[0;36m  File \u001b[0;32m\"<ipython-input-30-9fc0a9a9cef9>\"\u001b[0;36m, line \u001b[0;32m1\u001b[0m\n\u001b[0;31m    ps.__a　# __aはprivate変数なのでエラーが起きる\u001b[0m\n\u001b[0m          ^\u001b[0m\n\u001b[0;31mSyntaxError\u001b[0m\u001b[0;31m:\u001b[0m invalid character in identifier\n"
     ]
    }
   ],
   "source": [
    "ps.__a　# __aはprivate変数なのでエラーが起きる"
   ]
  },
  {
   "cell_type": "markdown",
   "metadata": {},
   "source": [
    "## ゲッターとセッターを利用する\n",
    "- クラス変数に値を持たせる方法は2つ。\n",
    "    - コンストラクタの引数に入れる。*インスタンス化時のみ\n",
    "    - セッターで入れる。*いつでも可能\n",
    "- クラス変数を得る方法は2つ。\n",
    "    - インスタンス名.クラス変数名  \n",
    "    で呼び出す。*private変数は不可\n",
    "    - ゲッターで呼び出す。*private変数も可能"
   ]
  },
  {
   "cell_type": "code",
   "execution_count": 31,
   "metadata": {
    "collapsed": true
   },
   "outputs": [],
   "source": [
    "class PrivSetGet(object):\n",
    "    def __init__(self):\n",
    "        pass\n",
    "        \n",
    "    def set_a(self, a):\n",
    "        self.__a = a\n",
    "        \n",
    "    def get_a(self):\n",
    "        return self.__a"
   ]
  },
  {
   "cell_type": "code",
   "execution_count": 32,
   "metadata": {
    "collapsed": true
   },
   "outputs": [],
   "source": [
    "psg = PrivSetGet()"
   ]
  },
  {
   "cell_type": "code",
   "execution_count": 33,
   "metadata": {
    "collapsed": true
   },
   "outputs": [],
   "source": [
    "psg.set_a(4)"
   ]
  },
  {
   "cell_type": "code",
   "execution_count": 34,
   "metadata": {},
   "outputs": [
    {
     "ename": "AttributeError",
     "evalue": "'PrivSetGet' object has no attribute '__a'",
     "output_type": "error",
     "traceback": [
      "\u001b[0;31m---------------------------------------------------------------------------\u001b[0m",
      "\u001b[0;31mAttributeError\u001b[0m                            Traceback (most recent call last)",
      "\u001b[0;32m<ipython-input-34-6de8edb6ac61>\u001b[0m in \u001b[0;36m<module>\u001b[0;34m()\u001b[0m\n\u001b[0;32m----> 1\u001b[0;31m \u001b[0mpsg\u001b[0m\u001b[0;34m.\u001b[0m\u001b[0m__a\u001b[0m\u001b[0;34m\u001b[0m\u001b[0m\n\u001b[0m",
      "\u001b[0;31mAttributeError\u001b[0m: 'PrivSetGet' object has no attribute '__a'"
     ]
    }
   ],
   "source": [
    "psg.__a 　# __aはprivate変数なのでエラーが起きる"
   ]
  },
  {
   "cell_type": "code",
   "execution_count": 35,
   "metadata": {},
   "outputs": [
    {
     "data": {
      "text/plain": [
       "4"
      ]
     },
     "execution_count": 35,
     "metadata": {},
     "output_type": "execute_result"
    }
   ],
   "source": [
    "psg.get_a() # private変数でもゲッターを使えば呼び出せる"
   ]
  },
  {
   "cell_type": "code",
   "execution_count": null,
   "metadata": {
    "collapsed": true
   },
   "outputs": [],
   "source": []
  }
 ],
 "metadata": {
  "kernelspec": {
   "display_name": "Python 3",
   "language": "python",
   "name": "python3"
  },
  "language_info": {
   "codemirror_mode": {
    "name": "ipython",
    "version": 3
   },
   "file_extension": ".py",
   "mimetype": "text/x-python",
   "name": "python",
   "nbconvert_exporter": "python",
   "pygments_lexer": "ipython3",
   "version": "3.6.2"
  }
 },
 "nbformat": 4,
 "nbformat_minor": 2
}
