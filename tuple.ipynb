{
 "cells": [
  {
   "cell_type": "markdown",
   "metadata": {},
   "source": [
    "# tuple（タプル）を勉強する"
   ]
  },
  {
   "cell_type": "markdown",
   "metadata": {},
   "source": [
    "|メソッド名|効果|\n",
    "|:---|:---|\n",
    "|count|条件に合致する要素を検索する|\n",
    "|index|指定した要素のインデックスを返す|"
   ]
  },
  {
   "cell_type": "code",
   "execution_count": 1,
   "metadata": {},
   "outputs": [
    {
     "name": "stdout",
     "output_type": "stream",
     "text": [
      "(3, 7, 4)\n",
      "(3, 7, 4)\n"
     ]
    }
   ],
   "source": [
    "x = (3,7,4) # タプルは丸括弧で囲う\n",
    "print(x)\n",
    "y = 3,7,4 # 丸括弧で囲わずに要素を並べるだけでもタプルとして認識される\n",
    "print(y)"
   ]
  },
  {
   "cell_type": "code",
   "execution_count": 2,
   "metadata": {},
   "outputs": [
    {
     "name": "stdout",
     "output_type": "stream",
     "text": [
      "(1, 2, 2, 3, 3, 3)\n",
      "2\n"
     ]
    }
   ],
   "source": [
    "x = (1,2,2,3,3,3)\n",
    "print(x)\n",
    "print(x.count(2)) # 2に合致する要素の個数を返す"
   ]
  },
  {
   "cell_type": "code",
   "execution_count": 3,
   "metadata": {},
   "outputs": [
    {
     "name": "stdout",
     "output_type": "stream",
     "text": [
      "(1, 2, 2, 3, 3, 3)\n",
      "1\n"
     ]
    }
   ],
   "source": [
    "x = (1,2,2,3,3,3)\n",
    "print(x)\n",
    "print(x.index(2)) # 2に合致する最初の要素のインデックスを返す"
   ]
  },
  {
   "cell_type": "code",
   "execution_count": 4,
   "metadata": {},
   "outputs": [
    {
     "name": "stdout",
     "output_type": "stream",
     "text": [
      "('T', 'h', 'i', 's', ' ', 'i', 's', ' ', 'a', ' ', 'p', 'e', 'n', '.')\n"
     ]
    }
   ],
   "source": [
    "x = tuple(\"This is a pen.\") # 文字列をタプルにする\n",
    "print(x)"
   ]
  },
  {
   "cell_type": "code",
   "execution_count": 5,
   "metadata": {},
   "outputs": [
    {
     "name": "stdout",
     "output_type": "stream",
     "text": [
      "10\n",
      "(10,)\n"
     ]
    }
   ],
   "source": [
    "x = (10) # これはタプルではない。\n",
    "print(x)\n",
    "x = (10,) # これはタプル。単一の要素からなるタブルを作る場合は、最後にカンマが必要。\n",
    "print(x)"
   ]
  },
  {
   "cell_type": "code",
   "execution_count": 6,
   "metadata": {},
   "outputs": [
    {
     "name": "stdout",
     "output_type": "stream",
     "text": [
      "[1, 2, 3]\n",
      "[1, 4, 3]\n",
      "(1, 2, 3)\n"
     ]
    },
    {
     "ename": "TypeError",
     "evalue": "'tuple' object does not support item assignment",
     "output_type": "error",
     "traceback": [
      "\u001b[0;31m---------------------------------------------------------------------------\u001b[0m",
      "\u001b[0;31mTypeError\u001b[0m                                 Traceback (most recent call last)",
      "\u001b[0;32m<ipython-input-6-49fa2305d55d>\u001b[0m in \u001b[0;36m<module>\u001b[0;34m()\u001b[0m\n\u001b[1;32m      6\u001b[0m \u001b[0mx\u001b[0m \u001b[0;34m=\u001b[0m \u001b[0;34m(\u001b[0m\u001b[0;36m1\u001b[0m\u001b[0;34m,\u001b[0m\u001b[0;36m2\u001b[0m\u001b[0;34m,\u001b[0m\u001b[0;36m3\u001b[0m\u001b[0;34m)\u001b[0m\u001b[0;34m\u001b[0m\u001b[0m\n\u001b[1;32m      7\u001b[0m \u001b[0mprint\u001b[0m\u001b[0;34m(\u001b[0m\u001b[0mx\u001b[0m\u001b[0;34m)\u001b[0m\u001b[0;34m\u001b[0m\u001b[0m\n\u001b[0;32m----> 8\u001b[0;31m \u001b[0mx\u001b[0m\u001b[0;34m[\u001b[0m\u001b[0;36m1\u001b[0m\u001b[0;34m]\u001b[0m \u001b[0;34m=\u001b[0m \u001b[0;36m4\u001b[0m \u001b[0;31m# タプルの要素は変更できない(重要)\u001b[0m\u001b[0;34m\u001b[0m\u001b[0m\n\u001b[0m\u001b[1;32m      9\u001b[0m \u001b[0mprint\u001b[0m\u001b[0;34m(\u001b[0m\u001b[0mx\u001b[0m\u001b[0;34m)\u001b[0m\u001b[0;34m\u001b[0m\u001b[0m\n",
      "\u001b[0;31mTypeError\u001b[0m: 'tuple' object does not support item assignment"
     ]
    }
   ],
   "source": [
    "x = [1,2,3]\n",
    "print(x)\n",
    "x[1] = 4\n",
    "print(x)\n",
    "\n",
    "x = (1,2,3)\n",
    "print(x)\n",
    "x[1] = 4 # タプルの要素は変更できない(重要)\n",
    "print(x)"
   ]
  },
  {
   "cell_type": "code",
   "execution_count": 7,
   "metadata": {},
   "outputs": [
    {
     "name": "stdout",
     "output_type": "stream",
     "text": [
      "(1, 2, 3) (4, 5, 6)\n",
      "(1, 2, 3, 4, 5, 6)\n"
     ]
    }
   ],
   "source": [
    "x = (1,2,3)\n",
    "y = (4,5,6)\n",
    "print(x,y)\n",
    "z = x+y # タプルの結合は+で可能\n",
    "print(z)"
   ]
  },
  {
   "cell_type": "code",
   "execution_count": 8,
   "metadata": {},
   "outputs": [
    {
     "name": "stdout",
     "output_type": "stream",
     "text": [
      "(1, 3, 5, 7)\n"
     ]
    }
   ],
   "source": [
    "x = (1,2,3,4,5,6,7,8,9)\n",
    "print(x[0:7:2]) # タプル名[開始インデックス:終了インデックス:ステップ]で要素を切り出すことが可能"
   ]
  },
  {
   "cell_type": "code",
   "execution_count": 9,
   "metadata": {},
   "outputs": [
    {
     "name": "stdout",
     "output_type": "stream",
     "text": [
      "11\n",
      "5\n",
      "24\n",
      "2.6666666666666665\n"
     ]
    }
   ],
   "source": [
    "def arithmetic(a,b):\n",
    "    wa = a + b\n",
    "    sa = a - b\n",
    "    seki = a * b\n",
    "    shou = a / b\n",
    "    return (wa, sa, seki, shou) # 関数の返り値をタプルにすると、複数の値を同時に返すことができる\n",
    "\n",
    "wa, sa, seki, shou = arithmetic(8,3)\n",
    "print(wa)\n",
    "print(sa)\n",
    "print(seki)\n",
    "print(shou)"
   ]
  },
  {
   "cell_type": "code",
   "execution_count": 10,
   "metadata": {},
   "outputs": [
    {
     "name": "stdout",
     "output_type": "stream",
     "text": [
      "11\n",
      "5\n",
      "24\n",
      "2.6666666666666665\n"
     ]
    }
   ],
   "source": [
    "def arithmetic2(a,b):\n",
    "    wa = a + b\n",
    "    sa = a - b\n",
    "    seki = a * b\n",
    "    shou = a / b\n",
    "    return wa, sa, seki, shou # 丸括弧をつけなくてもタプルとして認識されるので、省略することも多い\n",
    "\n",
    "wa, sa, seki, shou = arithmetic2(8,3)\n",
    "print(wa)\n",
    "print(sa)\n",
    "print(seki)\n",
    "print(shou)"
   ]
  },
  {
   "cell_type": "code",
   "execution_count": 11,
   "metadata": {},
   "outputs": [
    {
     "name": "stdout",
     "output_type": "stream",
     "text": [
      "<class 'tuple'>\n",
      "11\n",
      "5\n",
      "24\n",
      "2.6666666666666665\n"
     ]
    }
   ],
   "source": [
    "arith = arithmetic(8,3) # 複数の返り値を返す関数を1つの変数で受けるとタプルになる。\n",
    "print(type(arith))\n",
    "print(arith[0])\n",
    "print(arith[1])\n",
    "print(arith[2])\n",
    "print(arith[3])"
   ]
  },
  {
   "cell_type": "code",
   "execution_count": null,
   "metadata": {
    "collapsed": true
   },
   "outputs": [],
   "source": []
  }
 ],
 "metadata": {
  "kernelspec": {
   "display_name": "Python 3",
   "language": "python",
   "name": "python3"
  },
  "language_info": {
   "codemirror_mode": {
    "name": "ipython",
    "version": 3
   },
   "file_extension": ".py",
   "mimetype": "text/x-python",
   "name": "python",
   "nbconvert_exporter": "python",
   "pygments_lexer": "ipython3",
   "version": "3.6.3"
  }
 },
 "nbformat": 4,
 "nbformat_minor": 2
}
