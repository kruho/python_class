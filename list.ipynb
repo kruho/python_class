{
 "cells": [
  {
   "cell_type": "markdown",
   "metadata": {},
   "source": [
    "# list（リスト）について勉強する"
   ]
  },
  {
   "cell_type": "markdown",
   "metadata": {},
   "source": [
    "|メソッド名|効果|\n",
    "|:---|:---|\n",
    "|clear|リストを空にする（[]になる）|\n",
    "|copy|リストの深いコピーを作る|\n",
    "|append|リスト末尾に渡したオブジェクトを追加する|\n",
    "|extend|リスト末尾に渡したリストの要素を追加して拡張する|\n",
    "|insert|指定したインデックスにオブジェクトを挿入する|\n",
    "|count|条件に合致する要素を検索する|\n",
    "|index|指定した要素のインデックスを返す|\n",
    "|pop|指定したインデックスの要素を消す|\n",
    "|remove|指定したオブジェクトに合致した要素を消す|\n",
    "|reverse|リストの順番を逆転させる|\n",
    "|sort|要素を並び替える|"
   ]
  },
  {
   "cell_type": "code",
   "execution_count": 1,
   "metadata": {},
   "outputs": [
    {
     "name": "stdout",
     "output_type": "stream",
     "text": [
      "[[1, 2], ['A', 'B', 'C']]\n",
      "[[1, 2], ['A', 'B', 'C'], 5]\n"
     ]
    }
   ],
   "source": [
    "x = [[1,2],['A','B','C']]\n",
    "print(x)\n",
    "x.append(5) # リストに5を加える\n",
    "print(x)"
   ]
  },
  {
   "cell_type": "code",
   "execution_count": 2,
   "metadata": {},
   "outputs": [
    {
     "name": "stdout",
     "output_type": "stream",
     "text": [
      "[1, 2, 3]\n",
      "[1, 2, 3, 4, 5]\n",
      "[1, 2, 3]\n",
      "[1, 2, 3, [4, 5]]\n"
     ]
    }
   ],
   "source": [
    "x = [1,2,3]\n",
    "print(x)\n",
    "x.extend([4,5]) # リスト[1,2,3]の末尾に別のリスト[4,5]の要素を付け加えて拡張する\n",
    "print(x)\n",
    "\n",
    "x = [1,2,3]\n",
    "print(x)\n",
    "x.append([4,5]) # リスト[1,2,3]の末尾に別のリスト[4,5]をそのまま付け加える\n",
    "print(x)"
   ]
  },
  {
   "cell_type": "code",
   "execution_count": 3,
   "metadata": {},
   "outputs": [
    {
     "name": "stdout",
     "output_type": "stream",
     "text": [
      "[[1, 2], [3, 4]]\n",
      "[]\n"
     ]
    }
   ],
   "source": [
    "x = [[1,2],[3,4]]\n",
    "print(x)\n",
    "x.clear() # リストを空にする（x=[]と同じ）\n",
    "print(x)"
   ]
  },
  {
   "cell_type": "code",
   "execution_count": 4,
   "metadata": {},
   "outputs": [
    {
     "name": "stdout",
     "output_type": "stream",
     "text": [
      "[[1, 2], [3, 4]] [[1, 2], [3, 4]]\n",
      "[['いろは', 'にほへと', 'ちりぬるを'], [3, 4]] [[1, 2], [3, 4]]\n"
     ]
    }
   ],
   "source": [
    "x = [[1,2],[3,4]]\n",
    "y = x.copy() # 深いコピーをする\n",
    "print(x,y)\n",
    "x[0] = ['いろは','にほへと','ちりぬるを']\n",
    "print(x,y)"
   ]
  },
  {
   "cell_type": "code",
   "execution_count": 5,
   "metadata": {},
   "outputs": [
    {
     "name": "stdout",
     "output_type": "stream",
     "text": [
      "[[1, 2], [3, 4]] [[1, 2], [3, 4]]\n",
      "[['いろは', 'にほへと', 'ちりぬるを'], [3, 4]] [['いろは', 'にほへと', 'ちりぬるを'], [3, 4]]\n"
     ]
    }
   ],
   "source": [
    "x = [[1,2],[3,4]]\n",
    "y = x # 「=」で代入すると浅いコピーになる\n",
    "print(x,y)\n",
    "x[0] = ['いろは','にほへと','ちりぬるを']\n",
    "print(x,y)"
   ]
  },
  {
   "cell_type": "code",
   "execution_count": 6,
   "metadata": {},
   "outputs": [
    {
     "name": "stdout",
     "output_type": "stream",
     "text": [
      "0\n",
      "0\n",
      "1\n",
      "'A'が見つかりません\n",
      "['A','B','C']が見つかりません\n",
      "0\n"
     ]
    }
   ],
   "source": [
    "x = [[[1,2],['A','B','C']],[3],['これは','ペン','です']]\n",
    "print(x.count('A')) # 'A'の個数をカウントする\n",
    "print(x.count(['A','B','C'])) # リスト['A','B','C']の個数をカウントする\n",
    "print(x.count([[1,2],['A','B','C']])) # 入れ子リスト[[1,2],['A','B','C']]の個数をカウントする\n",
    "\n",
    "if 'A' in x:\n",
    "    print(x.index('A')) # 'A'は入れ子内の要素なので場所が特定できない\n",
    "else:\n",
    "    print(\"'A'が見つかりません\")\n",
    "    \n",
    "if ['A','B','C'] in x:\n",
    "    print(x.index(['A','B','C'])) # リスト['A','B','C']は入れ子内の要素なので場所が特定できない\n",
    "else:\n",
    "    print(\"['A','B','C']が見つかりません\")\n",
    "    \n",
    "if [[1,2],['A','B','C']] in x:\n",
    "    print(x.index([[1,2],['A','B','C']])) # 入れ子リスト[[1,2],['A','B','C']]のインデックスを表示する\n",
    "else:\n",
    "    print(\"[[1,2],['A','B','C']]が見つかりません\")"
   ]
  },
  {
   "cell_type": "code",
   "execution_count": 7,
   "metadata": {},
   "outputs": [
    {
     "name": "stdout",
     "output_type": "stream",
     "text": [
      "0\n"
     ]
    }
   ],
   "source": [
    "x = [1,1,2,3,4]\n",
    "print(x.index(1)) # indexメソッドは、最初に一致した要素のインデックスを返す"
   ]
  },
  {
   "cell_type": "code",
   "execution_count": 8,
   "metadata": {},
   "outputs": [
    {
     "name": "stdout",
     "output_type": "stream",
     "text": [
      "[[1, 2], [3, 4, 5]]\n",
      "[[1, 2], ['a', 'b'], [3, 4, 5]]\n"
     ]
    }
   ],
   "source": [
    "x = [[1,2],[3,4,5]]\n",
    "print(x)\n",
    "x.insert(1,['a','b']) # インデックス1（つまり２番目の要素）に'a'を挿入する\n",
    "print(x)"
   ]
  },
  {
   "cell_type": "code",
   "execution_count": 9,
   "metadata": {},
   "outputs": [
    {
     "name": "stdout",
     "output_type": "stream",
     "text": [
      "[[[1, 2], ['A', 'B', 'C']], [3], ['これは', 'ペン', 'です']]\n",
      "[[[1, 2], ['A', 'B', 'C']], [3]]\n"
     ]
    }
   ],
   "source": [
    "x = [[[1,2],['A','B','C']],[3],['これは','ペン','です']]\n",
    "print(x)\n",
    "x.pop(2) # x のインデックス2の要素（３番目の要素）を消す\n",
    "print(x)"
   ]
  },
  {
   "cell_type": "code",
   "execution_count": 10,
   "metadata": {},
   "outputs": [
    {
     "name": "stdout",
     "output_type": "stream",
     "text": [
      "[[[1, 2], ['A', 'B', 'C']], [3], ['これは', 'ペン', 'です']]\n",
      "[[[1, 2], ['A', 'B', 'C']], [3]]\n"
     ]
    }
   ],
   "source": [
    "x = [[[1,2],['A','B','C']],[3],['これは','ペン','です']]\n",
    "print(x)\n",
    "x.remove(['これは','ペン','です']) # ['これは','ペン','です']要素を消す\n",
    "print(x)"
   ]
  },
  {
   "cell_type": "code",
   "execution_count": 11,
   "metadata": {},
   "outputs": [
    {
     "name": "stdout",
     "output_type": "stream",
     "text": [
      "[[[1, 2], ['A', 'B', 'C']], [3], ['これは', 'ペン', 'です']]\n",
      "[['これは', 'ペン', 'です'], [3], [[1, 2], ['A', 'B', 'C']]]\n"
     ]
    }
   ],
   "source": [
    "x = [[[1,2],['A','B','C']],[3],['これは','ペン','です']]\n",
    "print(x)\n",
    "x.reverse() # 最も上層のリストの順番を逆転させる\n",
    "print(x)"
   ]
  },
  {
   "cell_type": "code",
   "execution_count": 12,
   "metadata": {},
   "outputs": [
    {
     "name": "stdout",
     "output_type": "stream",
     "text": [
      "[7, 3, 5, 9, 1]\n",
      "[1, 3, 5, 7, 9]\n"
     ]
    }
   ],
   "source": [
    "x = [7,3,5,9,1]\n",
    "print(x)\n",
    "x.sort() # 昇順に並び替える\n",
    "print(x)"
   ]
  },
  {
   "cell_type": "code",
   "execution_count": 13,
   "metadata": {},
   "outputs": [
    {
     "name": "stdout",
     "output_type": "stream",
     "text": [
      "[[5, 1], [3, 8, [9, 6]]]\n",
      "5 3\n",
      "[[3, 8, [9, 6]], [5, 1]]\n"
     ]
    }
   ],
   "source": [
    "x = [[5,1],[3,8,[9,6]]]\n",
    "print(x)\n",
    "\n",
    "print(x[0][0],x[1][0])\n",
    "x.sort() # [5,1]の先頭要素5と、[3,8,[9,6]]の先頭要素3で並び替えされる\n",
    "print(x)"
   ]
  },
  {
   "cell_type": "code",
   "execution_count": 14,
   "metadata": {},
   "outputs": [
    {
     "ename": "SyntaxError",
     "evalue": "invalid character in identifier (<ipython-input-14-8bd52129ab15>, line 1)",
     "output_type": "error",
     "traceback": [
      "\u001b[0;36m  File \u001b[0;32m\"<ipython-input-14-8bd52129ab15>\"\u001b[0;36m, line \u001b[0;32m1\u001b[0m\n\u001b[0;31m    x = [[5,1],[[3,8,[9,6]]]]　#　[3,8,[9,6]]　の方をもう１段階入れ子にしてみる\u001b[0m\n\u001b[0m                             ^\u001b[0m\n\u001b[0;31mSyntaxError\u001b[0m\u001b[0;31m:\u001b[0m invalid character in identifier\n"
     ]
    }
   ],
   "source": [
    "x = [[5,1],[[3,8,[9,6]]]]　#　[3,8,[9,6]]　の方をもう１段階入れ子にしてみる\n",
    "print(x)\n",
    "\n",
    "print(x[0][0],x[1][0])\n",
    "x.sort() # 5と[3, 8, [9, 6]]は比較できないのでエラーが起きる\n",
    "print(x)"
   ]
  },
  {
   "cell_type": "code",
   "execution_count": null,
   "metadata": {
    "collapsed": true
   },
   "outputs": [],
   "source": []
  }
 ],
 "metadata": {
  "kernelspec": {
   "display_name": "Python 3",
   "language": "python",
   "name": "python3"
  },
  "language_info": {
   "codemirror_mode": {
    "name": "ipython",
    "version": 3
   },
   "file_extension": ".py",
   "mimetype": "text/x-python",
   "name": "python",
   "nbconvert_exporter": "python",
   "pygments_lexer": "ipython3",
   "version": "3.6.3"
  }
 },
 "nbformat": 4,
 "nbformat_minor": 2
}
